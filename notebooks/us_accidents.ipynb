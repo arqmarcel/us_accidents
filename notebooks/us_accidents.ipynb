{
 "cells": [
  {
   "cell_type": "code",
   "execution_count": 2,
   "metadata": {},
   "outputs": [],
   "source": [
    "import pandas as pd\n",
    "import numpy as np\n",
    "import matplotlib.pyplot as plt\n",
    "import seaborn as sns"
   ]
  },
  {
   "cell_type": "markdown",
   "metadata": {},
   "source": [
    "# Importando a base"
   ]
  },
  {
   "cell_type": "code",
   "execution_count": 3,
   "metadata": {},
   "outputs": [],
   "source": [
    "df = pd.read_csv('../data/raw/Base US Accidents.txt', sep='\\t')"
   ]
  },
  {
   "cell_type": "markdown",
   "metadata": {},
   "source": [
    "# Conhecendo a base"
   ]
  },
  {
   "cell_type": "code",
   "execution_count": 4,
   "metadata": {},
   "outputs": [
    {
     "name": "stdout",
     "output_type": "stream",
     "text": [
      "<class 'pandas.core.frame.DataFrame'>\n",
      "RangeIndex: 2845342 entries, 0 to 2845341\n",
      "Data columns (total 22 columns):\n",
      " #   Column             Dtype  \n",
      "---  ------             -----  \n",
      " 0   Severity           int64  \n",
      " 1   Start_Time         object \n",
      " 2   End_Time           object \n",
      " 3   Number             float64\n",
      " 4   Street             object \n",
      " 5   Side               object \n",
      " 6   City               object \n",
      " 7   County             object \n",
      " 8   State              object \n",
      " 9   Temperature(F)     float64\n",
      " 10  Weather_Condition  object \n",
      " 11  Crossing           bool   \n",
      " 12  Give_Way           bool   \n",
      " 13  Junction           bool   \n",
      " 14  No_Exit            bool   \n",
      " 15  Railway            bool   \n",
      " 16  Roundabout         bool   \n",
      " 17  Station            bool   \n",
      " 18  Stop               bool   \n",
      " 19  Traffic_Calming    bool   \n",
      " 20  Traffic_Signal     bool   \n",
      " 21  Sunrise_Sunset     object \n",
      "dtypes: bool(10), float64(2), int64(1), object(9)\n",
      "memory usage: 287.6+ MB\n"
     ]
    }
   ],
   "source": [
    "df.info()"
   ]
  },
  {
   "cell_type": "code",
   "execution_count": 5,
   "metadata": {},
   "outputs": [
    {
     "data": {
      "text/plain": [
       "array([2, 4, 3, 1])"
      ]
     },
     "execution_count": 5,
     "metadata": {},
     "output_type": "execute_result"
    }
   ],
   "source": [
    "df[\"Severity\"].unique()"
   ]
  },
  {
   "cell_type": "code",
   "execution_count": 6,
   "metadata": {},
   "outputs": [
    {
     "data": {
      "text/plain": [
       "array(['CA', 'IL', 'ND', 'WV', 'MT', 'MN', 'NE', 'PA', 'MO', 'AR', 'DC',\n",
       "       'VA', 'WY', 'MD', 'NC', 'SD', 'KY', 'KS', 'IA', 'AZ', 'TX', 'FL',\n",
       "       'MI', 'WA', 'SC', 'OK', 'OR', 'NY', 'CO', 'IN', 'AL', 'GA', 'UT',\n",
       "       'LA', 'NV', 'CT', 'DE', 'NJ', 'MS', 'TN', 'ID', 'OH', 'MA', 'RI',\n",
       "       'NM', 'WI', 'NH', 'ME', 'VT'], dtype=object)"
      ]
     },
     "execution_count": 6,
     "metadata": {},
     "output_type": "execute_result"
    }
   ],
   "source": [
    "df[\"State\"].unique()"
   ]
  },
  {
   "cell_type": "code",
   "execution_count": 8,
   "metadata": {},
   "outputs": [
    {
     "data": {
      "text/plain": [
       "49"
      ]
     },
     "execution_count": 8,
     "metadata": {},
     "output_type": "execute_result"
    }
   ],
   "source": [
    "df[\"State\"].nunique()"
   ]
  },
  {
   "cell_type": "code",
   "execution_count": 11,
   "metadata": {},
   "outputs": [
    {
     "data": {
      "text/plain": [
       "array(['Fair', 'Cloudy', 'Mostly Cloudy', 'Partly Cloudy', 'Light Rain',\n",
       "       'Fog', 'Thunder', 'N/A Precipitation', 'Fair / Windy',\n",
       "       'Light Snow', 'Haze', 'Light Drizzle', 'Light Rain with Thunder',\n",
       "       'Rain', 'Thunder in the Vicinity', 'Heavy Snow', 'T-Storm',\n",
       "       'Heavy Rain', 'Partly Cloudy / Windy', 'Snow', 'Mist',\n",
       "       'Shallow Fog', 'Heavy T-Storm', nan, 'Light Rain / Windy',\n",
       "       'Drizzle', 'Light Snow / Windy', 'Fog / Windy', 'Cloudy / Windy',\n",
       "       'Wintry Mix', 'Mostly Cloudy / Windy', 'Heavy T-Storm / Windy',\n",
       "       'Smoke', 'Heavy Rain / Windy', 'Thunder / Wintry Mix',\n",
       "       'Light Freezing Rain', 'Rain / Windy', 'Haze / Windy',\n",
       "       'Patches of Fog', 'Blowing Dust / Windy', 'Light Sleet',\n",
       "       'Heavy Snow / Windy', 'Drizzle and Fog', 'Showers in the Vicinity',\n",
       "       'Snow / Windy', 'Wintry Mix / Windy', 'Light Rain Shower',\n",
       "       'Heavy Drizzle', 'Light Drizzle / Windy', 'Drizzle / Windy',\n",
       "       'Rain Shower', 'T-Storm / Windy', 'Thunder / Windy',\n",
       "       'Blowing Snow / Windy', 'Snow and Thunder / Windy',\n",
       "       'Light Freezing Drizzle', 'Smoke / Windy',\n",
       "       'Widespread Dust / Windy', 'Blowing Dust',\n",
       "       'Light Freezing Rain / Windy', 'Light Snow Shower',\n",
       "       'Sand / Dust Whirlwinds', 'Light Snow and Sleet', 'Overcast',\n",
       "       'Snow and Sleet', 'Hail', 'Blowing Snow Nearby', 'Widespread Dust',\n",
       "       'Squalls', 'Small Hail', 'Tornado', 'Partial Fog', 'Clear',\n",
       "       'Scattered Clouds', 'Thunderstorm', 'Light Thunderstorms and Rain',\n",
       "       'Light Ice Pellets', 'Heavy Thunderstorms and Rain',\n",
       "       'Light Freezing Fog', 'Light Rain Showers',\n",
       "       'Thunderstorms and Rain', 'Light Thunderstorms and Snow',\n",
       "       'Heavy Ice Pellets', 'Ice Pellets', 'Rain Showers', 'Snow Grains',\n",
       "       'Light Fog', 'Heavy Thunderstorms and Snow', 'Blowing Snow',\n",
       "       'Light Snow Showers', 'Volcanic Ash', 'Dust Whirls', 'Sand',\n",
       "       'Funnel Cloud', 'Freezing Rain / Windy', 'Light Snow with Thunder',\n",
       "       'Squalls / Windy', 'Light Sleet / Windy', 'Duststorm',\n",
       "       'Light Snow and Sleet / Windy', 'Heavy Rain Shower / Windy',\n",
       "       'Sand / Windy', 'Sleet', 'Freezing Rain', 'Snow and Sleet / Windy',\n",
       "       'Heavy Freezing Drizzle', 'Heavy Freezing Rain',\n",
       "       'Freezing Drizzle', 'Thunder / Wintry Mix / Windy', 'Heavy Sleet',\n",
       "       'Blowing Sand', 'Sand / Dust Whirlwinds / Windy',\n",
       "       'Light Rain Shower / Windy', 'Mist / Windy', 'Thunder and Hail',\n",
       "       'Patches of Fog / Windy', 'Sleet / Windy', 'Heavy Rain Shower',\n",
       "       'Light Haze', 'Heavy Blowing Snow', 'Drifting Snow',\n",
       "       'Heavy Thunderstorms with Small Hail', 'Heavy Rain Showers',\n",
       "       'Low Drifting Snow', 'Heavy Snow with Thunder',\n",
       "       'Sand / Dust Whirls Nearby', 'Thunder and Hail / Windy',\n",
       "       'Light Blowing Snow'], dtype=object)"
      ]
     },
     "execution_count": 11,
     "metadata": {},
     "output_type": "execute_result"
    }
   ],
   "source": [
    "df[\"Weather_Condition\"].unique()"
   ]
  },
  {
   "cell_type": "code",
   "execution_count": 12,
   "metadata": {},
   "outputs": [
    {
     "data": {
      "text/plain": [
       "127"
      ]
     },
     "execution_count": 12,
     "metadata": {},
     "output_type": "execute_result"
    }
   ],
   "source": [
    "df[\"Weather_Condition\"].nunique()"
   ]
  },
  {
   "cell_type": "code",
   "execution_count": 13,
   "metadata": {},
   "outputs": [
    {
     "data": {
      "text/plain": [
       "array(['Day', 'Night', nan], dtype=object)"
      ]
     },
     "execution_count": 13,
     "metadata": {},
     "output_type": "execute_result"
    }
   ],
   "source": [
    "df[\"Sunrise_Sunset\"].unique()"
   ]
  },
  {
   "cell_type": "markdown",
   "metadata": {},
   "source": [
    "# Segmentando a variável Severity (Severidade)"
   ]
  },
  {
   "cell_type": "code",
   "execution_count": 5,
   "metadata": {},
   "outputs": [],
   "source": [
    "def categorias_severidade(valor):\n",
    "    if valor == 1:\n",
    "        return \"Baixa\"\n",
    "    elif valor == 2:\n",
    "        return \"Média-Baixa\"\n",
    "    elif valor == 3:\n",
    "        return \"Média\"\n",
    "    else:\n",
    "        return \"Alta\"\n",
    "df[\"Severidade\"] = df[\"Severity\"].apply(categorias_severidade)"
   ]
  },
  {
   "cell_type": "markdown",
   "metadata": {},
   "source": [
    "# Verificando os estados top 3 em acidentes"
   ]
  },
  {
   "cell_type": "code",
   "execution_count": null,
   "metadata": {},
   "outputs": [
    {
     "name": "stdout",
     "output_type": "stream",
     "text": [
      "  Estado  Quantidade de Acidentes\n",
      "0     CA                   795868\n",
      "1     FL                   401388\n",
      "2     TX                   149037\n"
     ]
    }
   ],
   "source": [
    "# Estados com mais acidentes\n",
    "\n",
    "top_estados_df = df[\"State\"].value_counts().reset_index().head(3)\n",
    "top_estados_df.columns = [\"Estado\", \"Quantidade de Acidentes\"]\n",
    "print(top_estados_df)"
   ]
  },
  {
   "cell_type": "markdown",
   "metadata": {},
   "source": [
    "# Entendendo a frequência de acidentes no top 3, por condição"
   ]
  },
  {
   "cell_type": "code",
   "execution_count": 24,
   "metadata": {},
   "outputs": [
    {
     "data": {
      "text/html": [
       "<div>\n",
       "<style scoped>\n",
       "    .dataframe tbody tr th:only-of-type {\n",
       "        vertical-align: middle;\n",
       "    }\n",
       "\n",
       "    .dataframe tbody tr th {\n",
       "        vertical-align: top;\n",
       "    }\n",
       "\n",
       "    .dataframe thead th {\n",
       "        text-align: right;\n",
       "    }\n",
       "</style>\n",
       "<table border=\"1\" class=\"dataframe\">\n",
       "  <thead>\n",
       "    <tr style=\"text-align: right;\">\n",
       "      <th></th>\n",
       "      <th>Hora_do_Dia</th>\n",
       "      <th>Freq. Absoluta</th>\n",
       "      <th>Freq. Relativa</th>\n",
       "      <th>Freq. Acumulada</th>\n",
       "    </tr>\n",
       "  </thead>\n",
       "  <tbody>\n",
       "    <tr>\n",
       "      <th>0</th>\n",
       "      <td>Day</td>\n",
       "      <td>493653</td>\n",
       "      <td>62.04</td>\n",
       "      <td>62.04</td>\n",
       "    </tr>\n",
       "    <tr>\n",
       "      <th>1</th>\n",
       "      <td>Night</td>\n",
       "      <td>302108</td>\n",
       "      <td>37.96</td>\n",
       "      <td>100.00</td>\n",
       "    </tr>\n",
       "  </tbody>\n",
       "</table>\n",
       "</div>"
      ],
      "text/plain": [
       "  Hora_do_Dia  Freq. Absoluta  Freq. Relativa  Freq. Acumulada\n",
       "0         Day          493653           62.04            62.04\n",
       "1       Night          302108           37.96           100.00"
      ]
     },
     "execution_count": 24,
     "metadata": {},
     "output_type": "execute_result"
    }
   ],
   "source": [
    "# Tabela de frequência para horário de acidentes na California\n",
    "\n",
    "# Filtrando a base pela California\n",
    "df_ca = df[df[\"State\"] == \"CA\"]\n",
    "\n",
    "# Gerando a tabela de frequência\n",
    "tab_freq_dt_ca = df_ca['Sunrise_Sunset'].value_counts().reset_index()\n",
    "tab_freq_dt_ca.columns = ['Hora_do_Dia', 'Freq. Absoluta']\n",
    "\n",
    "tab_freq_dt_ca['Freq. Relativa'] = 100*(tab_freq_dt_ca['Freq. Absoluta'] / tab_freq_dt_ca['Freq. Absoluta'].sum()).round(4)\n",
    "\n",
    "tab_freq_dt_ca['Freq. Acumulada'] = tab_freq_dt_ca['Freq. Relativa'].cumsum()\n",
    "tab_freq_dt_ca"
   ]
  },
  {
   "cell_type": "code",
   "execution_count": 25,
   "metadata": {},
   "outputs": [
    {
     "data": {
      "text/html": [
       "<div>\n",
       "<style scoped>\n",
       "    .dataframe tbody tr th:only-of-type {\n",
       "        vertical-align: middle;\n",
       "    }\n",
       "\n",
       "    .dataframe tbody tr th {\n",
       "        vertical-align: top;\n",
       "    }\n",
       "\n",
       "    .dataframe thead th {\n",
       "        text-align: right;\n",
       "    }\n",
       "</style>\n",
       "<table border=\"1\" class=\"dataframe\">\n",
       "  <thead>\n",
       "    <tr style=\"text-align: right;\">\n",
       "      <th></th>\n",
       "      <th>Hora_do_Dia</th>\n",
       "      <th>Freq. Absoluta</th>\n",
       "      <th>Freq. Relativa</th>\n",
       "      <th>Freq. Acumulada</th>\n",
       "    </tr>\n",
       "  </thead>\n",
       "  <tbody>\n",
       "    <tr>\n",
       "      <th>0</th>\n",
       "      <td>Day</td>\n",
       "      <td>274622</td>\n",
       "      <td>68.43</td>\n",
       "      <td>68.43</td>\n",
       "    </tr>\n",
       "    <tr>\n",
       "      <th>1</th>\n",
       "      <td>Night</td>\n",
       "      <td>126717</td>\n",
       "      <td>31.57</td>\n",
       "      <td>100.00</td>\n",
       "    </tr>\n",
       "  </tbody>\n",
       "</table>\n",
       "</div>"
      ],
      "text/plain": [
       "  Hora_do_Dia  Freq. Absoluta  Freq. Relativa  Freq. Acumulada\n",
       "0         Day          274622           68.43            68.43\n",
       "1       Night          126717           31.57           100.00"
      ]
     },
     "execution_count": 25,
     "metadata": {},
     "output_type": "execute_result"
    }
   ],
   "source": [
    "# Tabela de frequência para horário de acidentes na Florida\n",
    "\n",
    "# Filtrando a base pela Florida\n",
    "df_fl = df[df[\"State\"] == \"FL\"]\n",
    "\n",
    "# Gerando a tabela de frequência\n",
    "tab_freq_dt_fl = df_fl['Sunrise_Sunset'].value_counts().reset_index()\n",
    "tab_freq_dt_fl.columns = ['Hora_do_Dia', 'Freq. Absoluta']\n",
    "\n",
    "tab_freq_dt_fl['Freq. Relativa'] = 100*(tab_freq_dt_fl['Freq. Absoluta'] / tab_freq_dt_fl['Freq. Absoluta'].sum()).round(4)\n",
    "\n",
    "tab_freq_dt_fl['Freq. Acumulada'] = tab_freq_dt_fl['Freq. Relativa'].cumsum()\n",
    "tab_freq_dt_fl"
   ]
  },
  {
   "cell_type": "code",
   "execution_count": 26,
   "metadata": {},
   "outputs": [
    {
     "data": {
      "text/html": [
       "<div>\n",
       "<style scoped>\n",
       "    .dataframe tbody tr th:only-of-type {\n",
       "        vertical-align: middle;\n",
       "    }\n",
       "\n",
       "    .dataframe tbody tr th {\n",
       "        vertical-align: top;\n",
       "    }\n",
       "\n",
       "    .dataframe thead th {\n",
       "        text-align: right;\n",
       "    }\n",
       "</style>\n",
       "<table border=\"1\" class=\"dataframe\">\n",
       "  <thead>\n",
       "    <tr style=\"text-align: right;\">\n",
       "      <th></th>\n",
       "      <th>Hora_do_Dia</th>\n",
       "      <th>Freq. Absoluta</th>\n",
       "      <th>Freq. Relativa</th>\n",
       "      <th>Freq. Acumulada</th>\n",
       "    </tr>\n",
       "  </thead>\n",
       "  <tbody>\n",
       "    <tr>\n",
       "      <th>0</th>\n",
       "      <td>Day</td>\n",
       "      <td>94009</td>\n",
       "      <td>63.09</td>\n",
       "      <td>63.09</td>\n",
       "    </tr>\n",
       "    <tr>\n",
       "      <th>1</th>\n",
       "      <td>Night</td>\n",
       "      <td>54989</td>\n",
       "      <td>36.91</td>\n",
       "      <td>100.00</td>\n",
       "    </tr>\n",
       "  </tbody>\n",
       "</table>\n",
       "</div>"
      ],
      "text/plain": [
       "  Hora_do_Dia  Freq. Absoluta  Freq. Relativa  Freq. Acumulada\n",
       "0         Day           94009           63.09            63.09\n",
       "1       Night           54989           36.91           100.00"
      ]
     },
     "execution_count": 26,
     "metadata": {},
     "output_type": "execute_result"
    }
   ],
   "source": [
    "# Tabela de frequência para horário de acidentes no Texas\n",
    "\n",
    "# Filtrando a base pelo Texas\n",
    "df_tx = df[df[\"State\"] == \"TX\"]\n",
    "\n",
    "# Gerando a tabela de frequência\n",
    "tab_freq_dt_tx = df_tx['Sunrise_Sunset'].value_counts().reset_index()\n",
    "tab_freq_dt_tx.columns = ['Hora_do_Dia', 'Freq. Absoluta']\n",
    "\n",
    "tab_freq_dt_tx['Freq. Relativa'] = 100*(tab_freq_dt_tx['Freq. Absoluta'] / tab_freq_dt_tx['Freq. Absoluta'].sum()).round(4)\n",
    "\n",
    "tab_freq_dt_tx['Freq. Acumulada'] = tab_freq_dt_tx['Freq. Relativa'].cumsum()\n",
    "tab_freq_dt_tx"
   ]
  },
  {
   "cell_type": "markdown",
   "metadata": {},
   "source": [
    "# Verificando as severidades nos top 3 estados"
   ]
  },
  {
   "cell_type": "code",
   "execution_count": 22,
   "metadata": {},
   "outputs": [
    {
     "data": {
      "text/html": [
       "<div>\n",
       "<style scoped>\n",
       "    .dataframe tbody tr th:only-of-type {\n",
       "        vertical-align: middle;\n",
       "    }\n",
       "\n",
       "    .dataframe tbody tr th {\n",
       "        vertical-align: top;\n",
       "    }\n",
       "\n",
       "    .dataframe thead th {\n",
       "        text-align: right;\n",
       "    }\n",
       "</style>\n",
       "<table border=\"1\" class=\"dataframe\">\n",
       "  <thead>\n",
       "    <tr style=\"text-align: right;\">\n",
       "      <th></th>\n",
       "      <th>State</th>\n",
       "      <th>categoria_severidade</th>\n",
       "      <th>contagem_acidentes</th>\n",
       "      <th>frequencia_relativa</th>\n",
       "      <th>frequencia_acumulada</th>\n",
       "    </tr>\n",
       "  </thead>\n",
       "  <tbody>\n",
       "    <tr>\n",
       "      <th>45</th>\n",
       "      <td>CA</td>\n",
       "      <td>Média-Baixa</td>\n",
       "      <td>761462</td>\n",
       "      <td>0.956769</td>\n",
       "      <td>0.956769</td>\n",
       "    </tr>\n",
       "    <tr>\n",
       "      <th>94</th>\n",
       "      <td>CA</td>\n",
       "      <td>Média</td>\n",
       "      <td>20213</td>\n",
       "      <td>0.025397</td>\n",
       "      <td>0.982167</td>\n",
       "    </tr>\n",
       "    <tr>\n",
       "      <th>143</th>\n",
       "      <td>CA</td>\n",
       "      <td>Alta</td>\n",
       "      <td>9135</td>\n",
       "      <td>0.011478</td>\n",
       "      <td>0.993645</td>\n",
       "    </tr>\n",
       "    <tr>\n",
       "      <th>3</th>\n",
       "      <td>CA</td>\n",
       "      <td>Baixa</td>\n",
       "      <td>5058</td>\n",
       "      <td>0.006355</td>\n",
       "      <td>1.000000</td>\n",
       "    </tr>\n",
       "  </tbody>\n",
       "</table>\n",
       "</div>"
      ],
      "text/plain": [
       "    State categoria_severidade  contagem_acidentes  frequencia_relativa  \\\n",
       "45     CA          Média-Baixa              761462             0.956769   \n",
       "94     CA                Média               20213             0.025397   \n",
       "143    CA                 Alta                9135             0.011478   \n",
       "3      CA                Baixa                5058             0.006355   \n",
       "\n",
       "     frequencia_acumulada  \n",
       "45               0.956769  \n",
       "94               0.982167  \n",
       "143              0.993645  \n",
       "3                1.000000  "
      ]
     },
     "execution_count": 22,
     "metadata": {},
     "output_type": "execute_result"
    }
   ],
   "source": [
    "# Passo 1: Agrupar por severidade e estado, contando acidentes\n",
    "tipo_severidade_ca = df.groupby([\"Severity\", \"State\"]).size().reset_index(name=\"contagem_acidentes\")\n",
    "\n",
    "# Passo 2: Criar a coluna de categoria da severidade\n",
    "tipo_severidade_ca[\"categoria_severidade\"] = tipo_severidade_ca[\"Severity\"].apply(categorias_severidade)\n",
    "\n",
    "# Passo 3: Filtrar apenas o estado da Califórnia (CA)\n",
    "tipo_severidade_ca = tipo_severidade_ca[tipo_severidade_ca[\"State\"] == \"CA\"]\n",
    "\n",
    "# Passo 4: Calcular o total de acidentes da Califórnia (CA)\n",
    "total_acidentes_ca = tipo_severidade_ca[\"contagem_acidentes\"].sum()\n",
    "\n",
    "# Passo 5: Calcular a frequência relativa\n",
    "tipo_severidade_ca[\"frequencia_relativa\"] = tipo_severidade_ca[\"contagem_acidentes\"] / total_acidentes_ca\n",
    "\n",
    "# Passo 6: Calcular a frequência acumulada\n",
    "tipo_severidade_ca = tipo_severidade_ca.sort_values(by=\"contagem_acidentes\", ascending=False)\n",
    "tipo_severidade_ca[\"frequencia_acumulada\"] = tipo_severidade_ca[\"frequencia_relativa\"].cumsum()\n",
    "\n",
    "# Exibir as colunas desejadas para CA\n",
    "tipo_severidade_ca = tipo_severidade_ca[[\"State\", \"categoria_severidade\", \"contagem_acidentes\",  \"frequencia_relativa\", \"frequencia_acumulada\"]]\n",
    "tipo_severidade_ca"
   ]
  },
  {
   "cell_type": "code",
   "execution_count": 23,
   "metadata": {},
   "outputs": [
    {
     "data": {
      "text/html": [
       "<div>\n",
       "<style scoped>\n",
       "    .dataframe tbody tr th:only-of-type {\n",
       "        vertical-align: middle;\n",
       "    }\n",
       "\n",
       "    .dataframe tbody tr th {\n",
       "        vertical-align: top;\n",
       "    }\n",
       "\n",
       "    .dataframe thead th {\n",
       "        text-align: right;\n",
       "    }\n",
       "</style>\n",
       "<table border=\"1\" class=\"dataframe\">\n",
       "  <thead>\n",
       "    <tr style=\"text-align: right;\">\n",
       "      <th></th>\n",
       "      <th>State</th>\n",
       "      <th>categoria_severidade</th>\n",
       "      <th>contagem_acidentes</th>\n",
       "      <th>frequencia_relativa</th>\n",
       "      <th>frequencia_acumulada</th>\n",
       "    </tr>\n",
       "  </thead>\n",
       "  <tbody>\n",
       "    <tr>\n",
       "      <th>50</th>\n",
       "      <td>FL</td>\n",
       "      <td>Média-Baixa</td>\n",
       "      <td>377529</td>\n",
       "      <td>0.940559</td>\n",
       "      <td>0.940559</td>\n",
       "    </tr>\n",
       "    <tr>\n",
       "      <th>99</th>\n",
       "      <td>FL</td>\n",
       "      <td>Média</td>\n",
       "      <td>11478</td>\n",
       "      <td>0.028596</td>\n",
       "      <td>0.969155</td>\n",
       "    </tr>\n",
       "    <tr>\n",
       "      <th>148</th>\n",
       "      <td>FL</td>\n",
       "      <td>Alta</td>\n",
       "      <td>9581</td>\n",
       "      <td>0.023870</td>\n",
       "      <td>0.993024</td>\n",
       "    </tr>\n",
       "    <tr>\n",
       "      <th>8</th>\n",
       "      <td>FL</td>\n",
       "      <td>Baixa</td>\n",
       "      <td>2800</td>\n",
       "      <td>0.006976</td>\n",
       "      <td>1.000000</td>\n",
       "    </tr>\n",
       "  </tbody>\n",
       "</table>\n",
       "</div>"
      ],
      "text/plain": [
       "    State categoria_severidade  contagem_acidentes  frequencia_relativa  \\\n",
       "50     FL          Média-Baixa              377529             0.940559   \n",
       "99     FL                Média               11478             0.028596   \n",
       "148    FL                 Alta                9581             0.023870   \n",
       "8      FL                Baixa                2800             0.006976   \n",
       "\n",
       "     frequencia_acumulada  \n",
       "50               0.940559  \n",
       "99               0.969155  \n",
       "148              0.993024  \n",
       "8                1.000000  "
      ]
     },
     "execution_count": 23,
     "metadata": {},
     "output_type": "execute_result"
    }
   ],
   "source": [
    "# Passo 1: Agrupar por severidade e estado, contando acidentes\n",
    "tipo_severidade_fl = df.groupby([\"Severity\", \"State\"]).size().reset_index(name=\"contagem_acidentes\")\n",
    "\n",
    "# Passo 2: Criar a coluna de categoria da severidade\n",
    "tipo_severidade_fl[\"categoria_severidade\"] = tipo_severidade_fl[\"Severity\"].apply(categorias_severidade)\n",
    "\n",
    "# Passo 3: Filtrar apenas o estado da Flórida (FL)\n",
    "tipo_severidade_fl = tipo_severidade_fl[tipo_severidade_fl[\"State\"] == \"FL\"]\n",
    "\n",
    "# Passo 4: Calcular o total de acidentes da Flórida (FL)\n",
    "total_acidentes_fl = tipo_severidade_fl[\"contagem_acidentes\"].sum()\n",
    "\n",
    "# Passo 5: Calcular a frequência relativa\n",
    "tipo_severidade_fl[\"frequencia_relativa\"] = tipo_severidade_fl[\"contagem_acidentes\"] / total_acidentes_fl\n",
    "\n",
    "# Passo 6: Calcular a frequência acumulada\n",
    "tipo_severidade_fl = tipo_severidade_fl.sort_values(by=\"contagem_acidentes\", ascending=False)\n",
    "tipo_severidade_fl[\"frequencia_acumulada\"] = tipo_severidade_fl[\"frequencia_relativa\"].cumsum()\n",
    "\n",
    "# Exibir as colunas desejadas para FL\n",
    "tipo_severidade_fl = tipo_severidade_fl[[\"State\", \"categoria_severidade\", \"contagem_acidentes\",  \"frequencia_relativa\", \"frequencia_acumulada\"]]\n",
    "tipo_severidade_fl"
   ]
  },
  {
   "cell_type": "code",
   "execution_count": 24,
   "metadata": {},
   "outputs": [
    {
     "data": {
      "text/html": [
       "<div>\n",
       "<style scoped>\n",
       "    .dataframe tbody tr th:only-of-type {\n",
       "        vertical-align: middle;\n",
       "    }\n",
       "\n",
       "    .dataframe tbody tr th {\n",
       "        vertical-align: top;\n",
       "    }\n",
       "\n",
       "    .dataframe thead th {\n",
       "        text-align: right;\n",
       "    }\n",
       "</style>\n",
       "<table border=\"1\" class=\"dataframe\">\n",
       "  <thead>\n",
       "    <tr style=\"text-align: right;\">\n",
       "      <th></th>\n",
       "      <th>State</th>\n",
       "      <th>categoria_severidade</th>\n",
       "      <th>contagem_acidentes</th>\n",
       "      <th>frequencia_relativa</th>\n",
       "      <th>frequencia_acumulada</th>\n",
       "    </tr>\n",
       "  </thead>\n",
       "  <tbody>\n",
       "    <tr>\n",
       "      <th>83</th>\n",
       "      <td>TX</td>\n",
       "      <td>Média-Baixa</td>\n",
       "      <td>124059</td>\n",
       "      <td>0.832404</td>\n",
       "      <td>0.832404</td>\n",
       "    </tr>\n",
       "    <tr>\n",
       "      <th>132</th>\n",
       "      <td>TX</td>\n",
       "      <td>Média</td>\n",
       "      <td>19570</td>\n",
       "      <td>0.131310</td>\n",
       "      <td>0.963714</td>\n",
       "    </tr>\n",
       "    <tr>\n",
       "      <th>181</th>\n",
       "      <td>TX</td>\n",
       "      <td>Alta</td>\n",
       "      <td>4467</td>\n",
       "      <td>0.029972</td>\n",
       "      <td>0.993686</td>\n",
       "    </tr>\n",
       "    <tr>\n",
       "      <th>36</th>\n",
       "      <td>TX</td>\n",
       "      <td>Baixa</td>\n",
       "      <td>941</td>\n",
       "      <td>0.006314</td>\n",
       "      <td>1.000000</td>\n",
       "    </tr>\n",
       "  </tbody>\n",
       "</table>\n",
       "</div>"
      ],
      "text/plain": [
       "    State categoria_severidade  contagem_acidentes  frequencia_relativa  \\\n",
       "83     TX          Média-Baixa              124059             0.832404   \n",
       "132    TX                Média               19570             0.131310   \n",
       "181    TX                 Alta                4467             0.029972   \n",
       "36     TX                Baixa                 941             0.006314   \n",
       "\n",
       "     frequencia_acumulada  \n",
       "83               0.832404  \n",
       "132              0.963714  \n",
       "181              0.993686  \n",
       "36               1.000000  "
      ]
     },
     "execution_count": 24,
     "metadata": {},
     "output_type": "execute_result"
    }
   ],
   "source": [
    "# Passo 1: Agrupar por severidade e estado, contando acidentes\n",
    "tipo_severidade_tx = df.groupby([\"Severity\", \"State\"]).size().reset_index(name=\"contagem_acidentes\")\n",
    "\n",
    "# Passo 2: Criar a coluna de categoria da severidade\n",
    "tipo_severidade_tx[\"categoria_severidade\"] = tipo_severidade_tx[\"Severity\"].apply(categorias_severidade)\n",
    "\n",
    "# Passo 3: Filtrar apenas o estado do Texas (TX)\n",
    "tipo_severidade_tx = tipo_severidade_tx[tipo_severidade_tx[\"State\"] == \"TX\"]\n",
    "\n",
    "# Passo 4: Calcular o total de acidentes do Texas (TX)\n",
    "total_acidentes_tx = tipo_severidade_tx[\"contagem_acidentes\"].sum()\n",
    "\n",
    "# Passo 5: Calcular a frequência relativa\n",
    "tipo_severidade_tx[\"frequencia_relativa\"] = tipo_severidade_tx[\"contagem_acidentes\"] / total_acidentes_tx\n",
    "\n",
    "# Passo 6: Calcular a frequência acumulada\n",
    "tipo_severidade_tx = tipo_severidade_tx.sort_values(by=\"contagem_acidentes\", ascending=False)\n",
    "tipo_severidade_tx[\"frequencia_acumulada\"] = tipo_severidade_tx[\"frequencia_relativa\"].cumsum()\n",
    "\n",
    "# Exibir as colunas desejadas para TX\n",
    "tipo_severidade_tx = tipo_severidade_tx[[\"State\", \"categoria_severidade\", \"contagem_acidentes\",  \"frequencia_relativa\", \"frequencia_acumulada\"]]\n",
    "tipo_severidade_tx"
   ]
  },
  {
   "cell_type": "markdown",
   "metadata": {},
   "source": [
    "Essa análise continuará em outro notebook..."
   ]
  }
 ],
 "metadata": {
  "kernelspec": {
   "display_name": ".venv",
   "language": "python",
   "name": "python3"
  },
  "language_info": {
   "codemirror_mode": {
    "name": "ipython",
    "version": 3
   },
   "file_extension": ".py",
   "mimetype": "text/x-python",
   "name": "python",
   "nbconvert_exporter": "python",
   "pygments_lexer": "ipython3",
   "version": "3.13.0"
  }
 },
 "nbformat": 4,
 "nbformat_minor": 2
}
